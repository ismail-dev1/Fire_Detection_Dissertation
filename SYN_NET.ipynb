{
  "nbformat": 4,
  "nbformat_minor": 0,
  "metadata": {
    "colab": {
      "provenance": [],
      "gpuType": "T4"
    },
    "kernelspec": {
      "name": "python3",
      "display_name": "Python 3"
    },
    "language_info": {
      "name": "python"
    },
    "accelerator": "GPU"
  },
  "cells": [
    {
      "cell_type": "code",
      "execution_count": null,
      "metadata": {
        "colab": {
          "base_uri": "https://localhost:8080/"
        },
        "id": "gPLMe_GD_mJe",
        "outputId": "1e320193-a5c5-4a94-f19e-bbbae05100a6"
      },
      "outputs": [
        {
          "output_type": "stream",
          "name": "stdout",
          "text": [
            "Mounted at /content/drive\n"
          ]
        }
      ],
      "source": [
        "from google.colab import drive\n",
        "drive.mount('/content/drive')"
      ]
    },
    {
      "cell_type": "code",
      "source": [
        "import cv2\n",
        "import numpy as np\n",
        "import os\n",
        "from tqdm import tqdm\n",
        "\n",
        "# ==============================================================================\n",
        "# CONFIGURATION\n",
        "# ==============================================================================\n",
        "# Path to your raw dataset with train/val splits\n",
        "SOURCE_DATA_DIR = '/content/drive/MyDrive/fire_datasets/SYNFIRE/dataset'\n",
        "\n",
        "# Path where the new, prepared dataset will be saved\n",
        "OUTPUT_DATA_DIR = '/content/drive/MyDrive/fire_datasets/SYNFIRE/dataset'\n",
        "\n",
        "# Number of 'no-fire' samples to extract from each image\n",
        "NUM_NEGATIVE_SAMPLES = 3\n",
        "\n",
        "# Size of the cropped images to save\n",
        "CROP_SIZE = (224, 224)\n",
        "\n",
        "# ==============================================================================\n",
        "# THE PREPROCESSING SCRIPT\n",
        "# ==============================================================================\n",
        "def preprocess_dataset(source_base, output_base):\n",
        "    \"\"\"\n",
        "    Processes images and masks to create a classification dataset.\n",
        "    - Finds fire regions from masks and saves them as 'fire' samples.\n",
        "    - Extracts random non-fire regions as 'no-fire' samples.\n",
        "    \"\"\"\n",
        "    # Use the main source directory directly\n",
        "    print(f\"Processing dataset from '{source_base}'...\")\n",
        "\n",
        "    source_img_dir = os.path.join(source_base, 'imgs')\n",
        "    source_mask_dir = os.path.join(source_base, 'masks')\n",
        "\n",
        "    output_fire_dir = os.path.join(output_base, 'fire')\n",
        "    output_nofire_dir = os.path.join(output_base, 'no-fire')\n",
        "\n",
        "    # Create the output directories if they don't exist\n",
        "    os.makedirs(output_fire_dir, exist_ok=True)\n",
        "    os.makedirs(output_nofire_dir, exist_ok=True)\n",
        "\n",
        "    # Check if source directories exist before proceeding\n",
        "    if not os.path.exists(source_img_dir):\n",
        "        print(f\"Error: Image directory not found at {source_img_dir}\")\n",
        "        return\n",
        "    if not os.path.exists(source_mask_dir):\n",
        "        print(f\"Error: Mask directory not found at {source_mask_dir}\")\n",
        "        return\n",
        "\n",
        "    image_files = os.listdir(source_img_dir)\n",
        "\n",
        "    for img_filename in tqdm(image_files, desc=f\"Processing images\"):\n",
        "        img_path = os.path.join(source_img_dir, img_filename)\n",
        "        # Assume mask has the same name, but might be a different extension (e.g., .png)\n",
        "        mask_filename = os.path.splitext(img_filename)[0] + '.png'\n",
        "        mask_path = os.path.join(source_mask_dir, mask_filename)\n",
        "\n",
        "        if not os.path.exists(mask_path):\n",
        "            continue\n",
        "\n",
        "        img = cv2.imread(img_path)\n",
        "        mask = cv2.imread(mask_path, cv2.IMREAD_GRAYSCALE)\n",
        "\n",
        "        if img is None or mask is None:\n",
        "            continue\n",
        "\n",
        "        # --- 1. Find and save 'fire' samples ---\n",
        "        # Find contours of the fire regions in the mask\n",
        "        contours, _ = cv2.findContours(mask, cv2.RETR_EXTERNAL, cv2.CHAIN_APPROX_SIMPLE)\n",
        "\n",
        "        fire_boxes = []\n",
        "        for i, contour in enumerate(contours):\n",
        "            if cv2.contourArea(contour) > 100: # Filter out very small areas\n",
        "                x, y, w, h = cv2.boundingRect(contour)\n",
        "                fire_boxes.append((x, y, w, h))\n",
        "\n",
        "                # Crop the fire region from the original image\n",
        "                fire_crop = img[y:y+h, x:x+w]\n",
        "\n",
        "                # Resize and save\n",
        "                fire_crop_resized = cv2.resize(fire_crop, CROP_SIZE)\n",
        "                save_path = os.path.join(output_fire_dir, f\"{os.path.splitext(img_filename)[0]}_fire_{i}.jpg\")\n",
        "                cv2.imwrite(save_path, fire_crop_resized)\n",
        "\n",
        "        # --- 2. Find and save 'no-fire' samples ---\n",
        "        h, w, _ = img.shape\n",
        "        attempts = 0\n",
        "        saved_negatives = 0\n",
        "        while saved_negatives < NUM_NEGATIVE_SAMPLES and attempts < 20:\n",
        "            attempts += 1\n",
        "\n",
        "            # Get a random crop\n",
        "            rand_x = np.random.randint(0, w - CROP_SIZE[0]) if w > CROP_SIZE[0] else 0\n",
        "            rand_y = np.random.randint(0, h - CROP_SIZE[1]) if h > CROP_SIZE[1] else 0\n",
        "\n",
        "            # Check if this random crop overlaps with any fire box\n",
        "            is_overlap = False\n",
        "            for (fx, fy, fw, fh) in fire_boxes:\n",
        "                # Simple intersection check\n",
        "                if not (rand_x + CROP_SIZE[0] < fx or rand_x > fx + fw or rand_y + CROP_SIZE[1] < fy or rand_y > fy + fh):\n",
        "                    is_overlap = True\n",
        "                    break\n",
        "\n",
        "            if not is_overlap:\n",
        "                no_fire_crop = img[rand_y:rand_y+CROP_SIZE[1], rand_x:rand_x+CROP_SIZE[0]]\n",
        "                save_path = os.path.join(output_nofire_dir, f\"{os.path.splitext(img_filename)[0]}_nofire_{saved_negatives}.jpg\")\n",
        "                cv2.imwrite(save_path, no_fire_crop)\n",
        "                saved_negatives += 1\n",
        "\n",
        "\n",
        "if __name__ == '__main__':\n",
        "    preprocess_dataset(SOURCE_DATA_DIR, OUTPUT_DATA_DIR)\n",
        "    print(\"\\nPreprocessing complete!\")\n",
        "    print(f\"Dataset saved to: {OUTPUT_DATA_DIR}\")"
      ],
      "metadata": {
        "colab": {
          "base_uri": "https://localhost:8080/"
        },
        "id": "6Tk1wfSqCnGn",
        "outputId": "f59b3a12-64ec-4200-844a-9b8ebdb715e5"
      },
      "execution_count": null,
      "outputs": [
        {
          "metadata": {
            "tags": null
          },
          "name": "stdout",
          "output_type": "stream",
          "text": [
            "Processing dataset from '/content/drive/MyDrive/fire_datasets/SYNFIRE/dataset'...\n"
          ]
        },
        {
          "output_type": "stream",
          "name": "stderr",
          "text": [
            "Processing images: 100%|██████████| 2030/2030 [35:37<00:00,  1.05s/it]"
          ]
        },
        {
          "output_type": "stream",
          "name": "stdout",
          "text": [
            "\n",
            "Preprocessing complete!\n",
            "Dataset saved to: /content/drive/MyDrive/fire_datasets/SYNFIRE/dataset\n"
          ]
        },
        {
          "output_type": "stream",
          "name": "stderr",
          "text": [
            "\n"
          ]
        }
      ]
    },
    {
      "cell_type": "code",
      "source": [
        "# Path to your PREPARED dataset with 'fire' and 'no-fire' subfolders\n",
        "DATA_DIR = '/content/drive/MyDrive/fire_datasets/SYNFIRE/dataset/train'\n",
        "\n",
        "# Start with the first model\n",
        "MODEL_NAME = 'resnet18'\n",
        "\n",
        "# Number of epochs\n",
        "NUM_EPOCHS = 20"
      ],
      "metadata": {
        "id": "T2IiOZooObr5"
      },
      "execution_count": null,
      "outputs": []
    },
    {
      "cell_type": "code",
      "source": [
        "import torch\n",
        "import torch.nn as nn\n",
        "import torch.optim as optim\n",
        "from torchvision import datasets, models, transforms\n",
        "from torch.utils.data import DataLoader\n",
        "import os\n",
        "from tqdm import tqdm\n",
        "import time\n",
        "\n",
        "# ==============================================================================\n",
        "# 1. SETUP (This will use the variables from your previous cell)\n",
        "# ==============================================================================\n",
        "device = torch.device(\"cuda:0\" if torch.cuda.is_available() else \"cpu\")\n",
        "print(f\"Using device: {device}\")\n",
        "print(f\"Preparing to train {MODEL_NAME} for {NUM_EPOCHS} epochs.\")\n",
        "\n",
        "# ==============================================================================\n",
        "# 2. DATA LOADING AND TRANSFORMS\n",
        "# ==============================================================================\n",
        "# Standard transformations for pre-trained models\n",
        "data_transforms = {\n",
        "    'train': transforms.Compose([\n",
        "        transforms.RandomResizedCrop(224),\n",
        "        transforms.RandomHorizontalFlip(),\n",
        "        transforms.ToTensor(),\n",
        "        transforms.Normalize([0.485, 0.456, 0.406], [0.229, 0.224, 0.225])\n",
        "    ]),\n",
        "    'val': transforms.Compose([\n",
        "        transforms.Resize(256),\n",
        "        transforms.CenterCrop(224),\n",
        "        transforms.ToTensor(),\n",
        "        transforms.Normalize([0.485, 0.456, 0.406], [0.229, 0.224, 0.225])\n",
        "    ]),\n",
        "}\n",
        "\n",
        "# We need to create a train/validation split from your prepared data\n",
        "# Let's assume an 80/20 split.\n",
        "full_dataset = datasets.ImageFolder(DATA_DIR, data_transforms['train']) # Apply training transforms for now\n",
        "train_size = int(0.8 * len(full_dataset))\n",
        "val_size = len(full_dataset) - train_size\n",
        "train_dataset, val_dataset = torch.utils.data.random_split(full_dataset, [train_size, val_size])\n",
        "\n",
        "# IMPORTANT: We apply the validation transform to the validation set\n",
        "val_dataset.dataset.transform = data_transforms['val']\n",
        "\n",
        "dataloaders = {\n",
        "    'train': DataLoader(train_dataset, batch_size=32, shuffle=True, num_workers=2),\n",
        "    'val': DataLoader(val_dataset, batch_size=32, shuffle=False, num_workers=2)\n",
        "}\n",
        "dataset_sizes = {'train': len(train_dataset), 'val': len(val_dataset)}\n",
        "print(f\"Dataset sizes: Train={dataset_sizes['train']}, Val={dataset_sizes['val']}\")\n",
        "\n",
        "# ==============================================================================\n",
        "# 3. MODEL DEFINITION\n",
        "# ==============================================================================\n",
        "# Load the specified ResNet model with pre-trained weights\n",
        "if MODEL_NAME == 'resnet18':\n",
        "    model = models.resnet18(weights='IMAGENET1K_V1')\n",
        "elif MODEL_NAME == 'resnet50':\n",
        "    model = models.resnet50(weights='IMAGENET1K_V1')\n",
        "else:\n",
        "    raise ValueError(\"Model name not recognized. Choose 'resnet18' or 'resnet50'.\")\n",
        "\n",
        "# Replace the final layer for our 2-class problem (fire, no-fire)\n",
        "num_ftrs = model.fc.in_features\n",
        "model.fc = nn.Linear(num_ftrs, 2)\n",
        "model = model.to(device)\n",
        "\n",
        "# ==============================================================================\n",
        "# 4. TRAINING CONFIGURATION\n",
        "# ==============================================================================\n",
        "criterion = nn.CrossEntropyLoss()\n",
        "optimizer = optim.Adam(model.parameters(), lr=0.001)\n",
        "\n",
        "# ==============================================================================\n",
        "# 5. TRAINING AND VALIDATION LOOP\n",
        "# ==============================================================================\n",
        "best_val_accuracy = 0.0\n",
        "start_time = time.time()\n",
        "\n",
        "for epoch in range(NUM_EPOCHS):\n",
        "    print(f'Epoch {epoch+1}/{NUM_EPOCHS}')\n",
        "    print('-' * 10)\n",
        "\n",
        "    for phase in ['train', 'val']:\n",
        "        if phase == 'train':\n",
        "            model.train()\n",
        "        else:\n",
        "            model.eval()\n",
        "\n",
        "        running_loss = 0.0\n",
        "        running_corrects = 0\n",
        "\n",
        "        for inputs, labels in tqdm(dataloaders[phase], desc=f'{phase.capitalize()} Phase'):\n",
        "            inputs = inputs.to(device)\n",
        "            labels = labels.to(device)\n",
        "            optimizer.zero_grad()\n",
        "\n",
        "            with torch.set_grad_enabled(phase == 'train'):\n",
        "                outputs = model(inputs)\n",
        "                _, preds = torch.max(outputs, 1)\n",
        "                loss = criterion(outputs, labels)\n",
        "\n",
        "                if phase == 'train':\n",
        "                    loss.backward()\n",
        "                    optimizer.step()\n",
        "\n",
        "            running_loss += loss.item() * inputs.size(0)\n",
        "            running_corrects += torch.sum(preds == labels.data)\n",
        "\n",
        "        epoch_loss = running_loss / dataset_sizes[phase]\n",
        "        epoch_acc = running_corrects.double() / dataset_sizes[phase]\n",
        "\n",
        "        print(f'{phase.capitalize()} Loss: {epoch_loss:.4f} Acc: {epoch_acc:.4f}')\n",
        "\n",
        "        # ✅ Save the best model based on validation accuracy\n",
        "        if phase == 'val' and epoch_acc > best_val_accuracy:\n",
        "            best_val_accuracy = epoch_acc\n",
        "            # Save the model weights to your Google Drive\n",
        "            save_path = f'/content/drive/MyDrive/{MODEL_NAME}_best.pt'\n",
        "            torch.save(model.state_dict(), save_path)\n",
        "            print(f'💾 New best model saved to {save_path} with accuracy: {best_val_accuracy:.4f}')\n",
        "\n",
        "end_time = time.time()\n",
        "training_duration = end_time - start_time\n",
        "print(f'\\nTraining complete in {training_duration // 60:.0f}m {training_duration % 60:.0f}s')\n",
        "print(f'Best validation accuracy: {best_val_accuracy:.4f}')"
      ],
      "metadata": {
        "colab": {
          "base_uri": "https://localhost:8080/"
        },
        "id": "ItgwNNGLNzXS",
        "outputId": "9ff698fb-5dd0-415d-e0cf-aac9728c55bd"
      },
      "execution_count": null,
      "outputs": [
        {
          "output_type": "stream",
          "name": "stdout",
          "text": [
            "Using device: cuda:0\n",
            "Preparing to train resnet50 for 10 epochs.\n",
            "Dataset sizes: Train=8517, Val=2130\n",
            "Epoch 1/10\n",
            "----------\n"
          ]
        },
        {
          "output_type": "stream",
          "name": "stderr",
          "text": [
            "Train Phase: 100%|██████████| 267/267 [01:39<00:00,  2.68it/s]\n"
          ]
        },
        {
          "output_type": "stream",
          "name": "stdout",
          "text": [
            "Train Loss: 0.1121 Acc: 0.9688\n"
          ]
        },
        {
          "output_type": "stream",
          "name": "stderr",
          "text": [
            "Val Phase: 100%|██████████| 67/67 [00:11<00:00,  5.59it/s]\n"
          ]
        },
        {
          "output_type": "stream",
          "name": "stdout",
          "text": [
            "Val Loss: 0.0886 Acc: 0.9765\n",
            "💾 New best model saved to /content/drive/MyDrive/resnet50_best.pt with accuracy: 0.9765\n",
            "Epoch 2/10\n",
            "----------\n"
          ]
        },
        {
          "output_type": "stream",
          "name": "stderr",
          "text": [
            "Train Phase: 100%|██████████| 267/267 [01:28<00:00,  3.02it/s]\n"
          ]
        },
        {
          "output_type": "stream",
          "name": "stdout",
          "text": [
            "Train Loss: 0.0771 Acc: 0.9777\n"
          ]
        },
        {
          "output_type": "stream",
          "name": "stderr",
          "text": [
            "Val Phase: 100%|██████████| 67/67 [00:11<00:00,  5.81it/s]\n"
          ]
        },
        {
          "output_type": "stream",
          "name": "stdout",
          "text": [
            "Val Loss: 0.1099 Acc: 0.9784\n",
            "💾 New best model saved to /content/drive/MyDrive/resnet50_best.pt with accuracy: 0.9784\n",
            "Epoch 3/10\n",
            "----------\n"
          ]
        },
        {
          "output_type": "stream",
          "name": "stderr",
          "text": [
            "Train Phase: 100%|██████████| 267/267 [01:31<00:00,  2.93it/s]\n"
          ]
        },
        {
          "output_type": "stream",
          "name": "stdout",
          "text": [
            "Train Loss: 0.0726 Acc: 0.9802\n"
          ]
        },
        {
          "output_type": "stream",
          "name": "stderr",
          "text": [
            "Val Phase: 100%|██████████| 67/67 [00:11<00:00,  5.65it/s]\n"
          ]
        },
        {
          "output_type": "stream",
          "name": "stdout",
          "text": [
            "Val Loss: 0.0819 Acc: 0.9798\n",
            "💾 New best model saved to /content/drive/MyDrive/resnet50_best.pt with accuracy: 0.9798\n",
            "Epoch 4/10\n",
            "----------\n"
          ]
        },
        {
          "output_type": "stream",
          "name": "stderr",
          "text": [
            "Train Phase: 100%|██████████| 267/267 [01:29<00:00,  2.97it/s]\n"
          ]
        },
        {
          "output_type": "stream",
          "name": "stdout",
          "text": [
            "Train Loss: 0.0590 Acc: 0.9824\n"
          ]
        },
        {
          "output_type": "stream",
          "name": "stderr",
          "text": [
            "Val Phase: 100%|██████████| 67/67 [00:11<00:00,  5.98it/s]\n"
          ]
        },
        {
          "output_type": "stream",
          "name": "stdout",
          "text": [
            "Val Loss: 0.0622 Acc: 0.9822\n",
            "💾 New best model saved to /content/drive/MyDrive/resnet50_best.pt with accuracy: 0.9822\n",
            "Epoch 5/10\n",
            "----------\n"
          ]
        },
        {
          "output_type": "stream",
          "name": "stderr",
          "text": [
            "Train Phase: 100%|██████████| 267/267 [01:30<00:00,  2.93it/s]\n"
          ]
        },
        {
          "output_type": "stream",
          "name": "stdout",
          "text": [
            "Train Loss: 0.0616 Acc: 0.9800\n"
          ]
        },
        {
          "output_type": "stream",
          "name": "stderr",
          "text": [
            "Val Phase: 100%|██████████| 67/67 [00:11<00:00,  5.68it/s]\n"
          ]
        },
        {
          "output_type": "stream",
          "name": "stdout",
          "text": [
            "Val Loss: 0.0548 Acc: 0.9817\n",
            "Epoch 6/10\n",
            "----------\n"
          ]
        },
        {
          "output_type": "stream",
          "name": "stderr",
          "text": [
            "Train Phase: 100%|██████████| 267/267 [01:28<00:00,  3.03it/s]\n"
          ]
        },
        {
          "output_type": "stream",
          "name": "stdout",
          "text": [
            "Train Loss: 0.0477 Acc: 0.9850\n"
          ]
        },
        {
          "output_type": "stream",
          "name": "stderr",
          "text": [
            "Val Phase: 100%|██████████| 67/67 [00:10<00:00,  6.17it/s]\n"
          ]
        },
        {
          "output_type": "stream",
          "name": "stdout",
          "text": [
            "Val Loss: 0.0488 Acc: 0.9836\n",
            "💾 New best model saved to /content/drive/MyDrive/resnet50_best.pt with accuracy: 0.9836\n",
            "Epoch 7/10\n",
            "----------\n"
          ]
        },
        {
          "output_type": "stream",
          "name": "stderr",
          "text": [
            "Train Phase: 100%|██████████| 267/267 [01:30<00:00,  2.95it/s]\n"
          ]
        },
        {
          "output_type": "stream",
          "name": "stdout",
          "text": [
            "Train Loss: 0.0543 Acc: 0.9836\n"
          ]
        },
        {
          "output_type": "stream",
          "name": "stderr",
          "text": [
            "Val Phase: 100%|██████████| 67/67 [00:11<00:00,  5.59it/s]\n"
          ]
        },
        {
          "output_type": "stream",
          "name": "stdout",
          "text": [
            "Val Loss: 0.0635 Acc: 0.9822\n",
            "Epoch 8/10\n",
            "----------\n"
          ]
        },
        {
          "output_type": "stream",
          "name": "stderr",
          "text": [
            "Train Phase: 100%|██████████| 267/267 [01:28<00:00,  3.03it/s]\n"
          ]
        },
        {
          "output_type": "stream",
          "name": "stdout",
          "text": [
            "Train Loss: 0.0480 Acc: 0.9843\n"
          ]
        },
        {
          "output_type": "stream",
          "name": "stderr",
          "text": [
            "Val Phase: 100%|██████████| 67/67 [00:11<00:00,  5.64it/s]\n"
          ]
        },
        {
          "output_type": "stream",
          "name": "stdout",
          "text": [
            "Val Loss: 0.0658 Acc: 0.9798\n",
            "Epoch 9/10\n",
            "----------\n"
          ]
        },
        {
          "output_type": "stream",
          "name": "stderr",
          "text": [
            "Train Phase: 100%|██████████| 267/267 [01:28<00:00,  3.02it/s]\n"
          ]
        },
        {
          "output_type": "stream",
          "name": "stdout",
          "text": [
            "Train Loss: 0.0436 Acc: 0.9847\n"
          ]
        },
        {
          "output_type": "stream",
          "name": "stderr",
          "text": [
            "Val Phase: 100%|██████████| 67/67 [00:13<00:00,  5.09it/s]\n"
          ]
        },
        {
          "output_type": "stream",
          "name": "stdout",
          "text": [
            "Val Loss: 0.0743 Acc: 0.9784\n",
            "Epoch 10/10\n",
            "----------\n"
          ]
        },
        {
          "output_type": "stream",
          "name": "stderr",
          "text": [
            "Train Phase: 100%|██████████| 267/267 [01:28<00:00,  3.03it/s]\n"
          ]
        },
        {
          "output_type": "stream",
          "name": "stdout",
          "text": [
            "Train Loss: 0.0498 Acc: 0.9827\n"
          ]
        },
        {
          "output_type": "stream",
          "name": "stderr",
          "text": [
            "Val Phase: 100%|██████████| 67/67 [00:11<00:00,  5.65it/s]"
          ]
        },
        {
          "output_type": "stream",
          "name": "stdout",
          "text": [
            "Val Loss: 0.0547 Acc: 0.9812\n",
            "\n",
            "Training complete in 17m 4s\n",
            "Best validation accuracy: 0.9836\n"
          ]
        },
        {
          "output_type": "stream",
          "name": "stderr",
          "text": [
            "\n"
          ]
        }
      ]
    },
    {
      "cell_type": "code",
      "source": [
        "# Path to your PREPARED dataset with 'fire' and 'no-fire' subfolders\n",
        "DATA_DIR = '/content/drive/MyDrive/fire_datasets/SYNFIRE/dataset/train'\n",
        "\n",
        "# Start with the first model\n",
        "MODEL_NAME = 'resnet50'\n",
        "\n",
        "# Number of epochs\n",
        "NUM_EPOCHS = 10"
      ],
      "metadata": {
        "id": "yCKqCnbfS4P-"
      },
      "execution_count": null,
      "outputs": []
    },
    {
      "cell_type": "code",
      "source": [
        "import torch\n",
        "import numpy as np\n",
        "import matplotlib.pyplot as plt\n",
        "import seaborn as sns\n",
        "from torchvision import datasets, models, transforms\n",
        "from torch.utils.data import DataLoader\n",
        "from sklearn.metrics import confusion_matrix, roc_curve, precision_recall_curve, auc\n",
        "import torch.nn as nn # Import nn module\n",
        "\n",
        "# --- CONFIGURATION ---\n",
        "MODEL_NAME = 'resnet50' # Changed to 'resnet50' to match saved weights\n",
        "MODEL_WEIGHTS_PATH = f'/content/drive/MyDrive/resnet50_best.pt' # Changed path to resnet50 weights\n",
        "# !! IMPORTANT: This path should be to your D-FIRE TEST SET !!\n",
        "TEST_DATA_DIR = '/content/drive/MyDrive/dfire_colab/dfire_cls/test'\n",
        "DEVICE = torch.device(\"cuda:0\" if torch.cuda.is_available() else \"cpu\")\n",
        "\n",
        "# --- LOAD THE MODEL ---\n",
        "if MODEL_NAME == 'resnet18':\n",
        "    model = models.resnet18()\n",
        "elif MODEL_NAME == 'resnet50':\n",
        "    model = models.resnet50()\n",
        "num_ftrs = model.fc.in_features\n",
        "model.fc = nn.Linear(num_ftrs, 2)\n",
        "model.load_state_dict(torch.load(MODEL_WEIGHTS_PATH, map_location=DEVICE))\n",
        "model = model.to(DEVICE)\n",
        "model.eval()\n",
        "\n",
        "# --- LOAD THE TEST DATA ---\n",
        "test_transform = transforms.Compose([\n",
        "    transforms.Resize(256),\n",
        "    transforms.CenterCrop(224),\n",
        "    transforms.ToTensor(),\n",
        "    transforms.Normalize([0.485, 0.456, 0.406], [0.229, 0.224, 0.225])\n",
        "])\n",
        "test_dataset = datasets.ImageFolder(TEST_DATA_DIR, test_transform)\n",
        "test_loader = DataLoader(test_dataset, batch_size=32, shuffle=False)\n",
        "class_names = test_dataset.classes\n",
        "\n",
        "# --- GET PREDICTIONS ---\n",
        "all_preds = []\n",
        "all_labels = []\n",
        "all_probs = []\n",
        "with torch.no_grad():\n",
        "    for inputs, labels in test_loader:\n",
        "        inputs = inputs.to(DEVICE)\n",
        "        labels = labels.to(DEVICE)\n",
        "\n",
        "        outputs = model(inputs)\n",
        "        probs = torch.softmax(outputs, dim=1)[:, 1] # Probability of 'fire' class\n",
        "        _, preds = torch.max(outputs, 1)\n",
        "\n",
        "        all_preds.extend(preds.cpu().numpy())\n",
        "        all_labels.extend(labels.cpu().numpy())\n",
        "        all_probs.extend(probs.cpu().numpy())\n",
        "\n",
        "# --- PLOT CONFUSION MATRIX ---\n",
        "cm = confusion_matrix(all_labels, all_preds)\n",
        "plt.figure(figsize=(8, 6))\n",
        "sns.heatmap(cm, annot=True, fmt='d', cmap='Blues', xticklabels=class_names, yticklabels=class_names)\n",
        "plt.title('Confusion Matrix')\n",
        "plt.ylabel('Actual Label')\n",
        "plt.xlabel('Predicted Label')\n",
        "plt.show()\n",
        "\n",
        "# --- PLOT PR and ROC CURVES ---\n",
        "precision, recall, _ = precision_recall_curve(all_labels, all_probs)\n",
        "pr_auc = auc(recall, precision)\n",
        "\n",
        "fpr, tpr, _ = roc_curve(all_labels, all_probs)\n",
        "roc_auc = auc(fpr, tpr)\n",
        "\n",
        "fig, (ax1, ax2) = plt.subplots(1, 2, figsize=(16, 6))\n",
        "\n",
        "# PR Curve\n",
        "ax1.plot(recall, precision, color='blue', lw=2, label=f'PR curve (AUC = {pr_auc:0.2f})')\n",
        "ax1.set_xlabel('Recall')\n",
        "ax1.set_ylabel('Precision')\n",
        "ax1.set_title('Precision-Recall Curve')\n",
        "ax1.legend(loc='lower left')\n",
        "\n",
        "# ROC Curve\n",
        "ax2.plot(fpr, tpr, color='darkorange', lw=2, label=f'ROC curve (AUC = {roc_auc:0.2f})')\n",
        "ax2.plot([0, 1], [0, 1], color='navy', lw=2, linestyle='--')\n",
        "ax2.set_xlabel('False Positive Rate')\n",
        "ax2.set_ylabel('True Positive Rate')\n",
        "ax2.set_title('Receiver Operating Characteristic (ROC) Curve')\n",
        "ax2.legend(loc='lower right')\n",
        "\n",
        "plt.show()"
      ],
      "metadata": {
        "colab": {
          "base_uri": "https://localhost:8080/",
          "height": 754
        },
        "id": "9bckj96sTCt1",
        "outputId": "6ffc33e5-ad6c-4767-9bd2-8eb9ff321889"
      },
      "execution_count": null,
      "outputs": [
        {
          "output_type": "display_data",
          "data": {
            "text/plain": [
              "<Figure size 800x600 with 2 Axes>"
            ],
            "image/png": "[encoded data removed]"
          },
          "metadata": {}
        },
        {
          "output_type": "display_data",
          "data": {
            "text/plain": [
              "<Figure size 1600x600 with 2 Axes>"
            ],
            "image/png": "[encoded data removed]"
          },
          "metadata": {}
        }
      ]
    },
    {
      "cell_type": "code",
      "source": [
        "OUTPUT_DIR = '/content/drive/MyDrive/model_eval'\n",
        "fig.savefig(os.path.join(OUTPUT_DIR, 'confusion_matrix.png'), dpi=300, bbox_inches='tight')"
      ],
      "metadata": {
        "id": "ICd8qfa2iZss"
      },
      "execution_count": null,
      "outputs": []
    },
    {
      "cell_type": "markdown",
      "metadata": {
        "id": "a99f7630"
      },
      "source": [
        "**Understanding `torchvision.datasets.ImageFolder`:**\n",
        "\n",
        "`ImageFolder` is a convenient dataset loader provided by `torchvision` that assumes your image data is organized in a specific way on disk:"
      ]
    },
    {
      "cell_type": "code",
      "source": [
        "fig.savefig(os.path.join(OUTPUT_DIR, 'performance_curves.png'), dpi=300, bbox_inches='tight')"
      ],
      "metadata": {
        "id": "2WDSAC3QmrJH"
      },
      "execution_count": null,
      "outputs": []
    }
  ]
}